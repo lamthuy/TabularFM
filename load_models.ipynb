{
 "cells": [
  {
   "cell_type": "markdown",
   "metadata": {},
   "source": [
    "### STVAE"
   ]
  },
  {
   "cell_type": "code",
   "execution_count": 7,
   "metadata": {},
   "outputs": [
    {
     "name": "stderr",
     "output_type": "stream",
     "text": [
      "/home/kdts33/tabsyn_project/official_tabularfm/TabularFM/tabularfm/utils/processing.py:407: FutureWarning: You are using `torch.load` with `weights_only=False` (the current default value), which uses the default pickle module implicitly. It is possible to construct malicious pickle data which will execute arbitrary code during unpickling (See https://github.com/pytorch/pytorch/blob/main/SECURITY.md#untrusted-models for more details). In a future release, the default value for `weights_only` will be flipped to `True`. This limits the functions that could be executed during unpickling. Arbitrary objects will no longer be allowed to be loaded via this mode unless they are explicitly allowlisted by the user via `torch.serialization.add_safe_globals`. We recommend you start setting `weights_only=True` for any use case where you don't have full control of the loaded file. Please open an issue on GitHub for any issues related to this experimental feature.\n",
      "  model.encoder.load_state_dict(torch.load(os.path.join(path, 'encoder_weights.pt'), map_location=torch.device('cpu')))\n",
      "/home/kdts33/tabsyn_project/official_tabularfm/TabularFM/tabularfm/utils/processing.py:408: FutureWarning: You are using `torch.load` with `weights_only=False` (the current default value), which uses the default pickle module implicitly. It is possible to construct malicious pickle data which will execute arbitrary code during unpickling (See https://github.com/pytorch/pytorch/blob/main/SECURITY.md#untrusted-models for more details). In a future release, the default value for `weights_only` will be flipped to `True`. This limits the functions that could be executed during unpickling. Arbitrary objects will no longer be allowed to be loaded via this mode unless they are explicitly allowlisted by the user via `torch.serialization.add_safe_globals`. We recommend you start setting `weights_only=True` for any use case where you don't have full control of the loaded file. Please open an issue on GitHub for any issues related to this experimental feature.\n",
      "  model.decoder.load_state_dict(torch.load(os.path.join(path, 'decoder_weights.pt'), map_location=torch.device('cpu')))\n"
     ]
    }
   ],
   "source": [
    "import sys\n",
    "sys.path.append('tabularfm')\n",
    "\n",
    "from tabularfm.utils.cli import get_config, create_model, create_model_config\n",
    "from tabularfm.utils.processing import load_model_weights\n",
    "\n",
    "# configs\n",
    "model_type = 'stvae'\n",
    "config_path = 'configs/stvae.yaml'\n",
    "# data_path =  # kaggle path\n",
    "data_path = 'datasets/gittables_v4' # gittables\n",
    "finetune_path = 'models/stvae_gittables'\n",
    "\n",
    "# load and create config\n",
    "configs = get_config(config_path)\n",
    "model_config_finetune = create_model_config(data_path, configs, model_type, config_type = \"finetune\")\n",
    "\n",
    "# load model\n",
    "stvae_model = create_model(model_type, model_config_finetune)\n",
    "stvae_model = load_model_weights(model_type, stvae_model, finetune_path, suffix=None)"
   ]
  },
  {
   "cell_type": "markdown",
   "metadata": {},
   "source": [
    "### CTGAN"
   ]
  },
  {
   "cell_type": "code",
   "execution_count": 1,
   "metadata": {},
   "outputs": [
    {
     "name": "stderr",
     "output_type": "stream",
     "text": [
      "/home/kdts33/.local/lib/python3.9/site-packages/tqdm/auto.py:21: TqdmWarning: IProgress not found. Please update jupyter and ipywidgets. See https://ipywidgets.readthedocs.io/en/stable/user_install.html\n",
      "  from .autonotebook import tqdm as notebook_tqdm\n",
      "/home/kdts33/tabsyn_project/official_tabularfm/TabularFM/tabularfm/utils/processing.py:428: FutureWarning: You are using `torch.load` with `weights_only=False` (the current default value), which uses the default pickle module implicitly. It is possible to construct malicious pickle data which will execute arbitrary code during unpickling (See https://github.com/pytorch/pytorch/blob/main/SECURITY.md#untrusted-models for more details). In a future release, the default value for `weights_only` will be flipped to `True`. This limits the functions that could be executed during unpickling. Arbitrary objects will no longer be allowed to be loaded via this mode unless they are explicitly allowlisted by the user via `torch.serialization.add_safe_globals`. We recommend you start setting `weights_only=True` for any use case where you don't have full control of the loaded file. Please open an issue on GitHub for any issues related to this experimental feature.\n",
      "  model._generator.load_state_dict(torch.load(os.path.join(path, 'generator_weights.pt'), map_location=torch.device('cpu')))\n",
      "/home/kdts33/tabsyn_project/official_tabularfm/TabularFM/tabularfm/utils/processing.py:429: FutureWarning: You are using `torch.load` with `weights_only=False` (the current default value), which uses the default pickle module implicitly. It is possible to construct malicious pickle data which will execute arbitrary code during unpickling (See https://github.com/pytorch/pytorch/blob/main/SECURITY.md#untrusted-models for more details). In a future release, the default value for `weights_only` will be flipped to `True`. This limits the functions that could be executed during unpickling. Arbitrary objects will no longer be allowed to be loaded via this mode unless they are explicitly allowlisted by the user via `torch.serialization.add_safe_globals`. We recommend you start setting `weights_only=True` for any use case where you don't have full control of the loaded file. Please open an issue on GitHub for any issues related to this experimental feature.\n",
      "  model._discriminator.load_state_dict(torch.load(os.path.join(path, 'discriminator_weights.pt'), map_location=torch.device('cpu')))\n"
     ]
    }
   ],
   "source": [
    "import sys\n",
    "sys.path.append('tabularfm')\n",
    "\n",
    "from tabularfm.utils.cli import get_config, create_model, create_model_config\n",
    "from tabularfm.utils.processing import load_model_weights\n",
    "\n",
    "# configs\n",
    "model_type = 'ctgan'\n",
    "config_path = 'configs/ctgan.yaml'\n",
    "# data_path =  # kaggle path\n",
    "data_path = 'datasets/gittables_v4' # gittables\n",
    "finetune_path = 'models/ctgan_gittables'\n",
    "\n",
    "# load and create config\n",
    "configs = get_config(config_path)\n",
    "model_config_finetune = create_model_config(data_path, configs, model_type, config_type = \"finetune\")\n",
    "\n",
    "# load model\n",
    "ctgan_model = create_model(model_type, model_config_finetune)\n",
    "ctgan_model = load_model_weights(model_type, ctgan_model, finetune_path, suffix=None)"
   ]
  },
  {
   "cell_type": "code",
   "execution_count": 2,
   "metadata": {},
   "outputs": [
    {
     "data": {
      "text/plain": [
       "<tabularfm.ctgan.synthesizers.ctgan.CustomCTGAN at 0x7f0ec9fcca30>"
      ]
     },
     "execution_count": 2,
     "metadata": {},
     "output_type": "execute_result"
    }
   ],
   "source": [
    "ctgan_model"
   ]
  },
  {
   "cell_type": "markdown",
   "metadata": {},
   "source": [
    "### GReaT"
   ]
  },
  {
   "cell_type": "code",
   "execution_count": 7,
   "metadata": {},
   "outputs": [],
   "source": [
    "import os\n",
    "import sys\n",
    "sys.path.append('tabularfm')\n",
    "\n",
    "from tabularfm.utils.cli import get_config, create_model, create_model_config\n",
    "from tabularfm.utils.processing import load_model_weights\n",
    "\n",
    "# configs\n",
    "model_type = 'great'\n",
    "config_path = 'configs/great.yaml'\n",
    "# data_path =  # kaggle path\n",
    "data_path = 'datasets/gittables_v4' # gittables\n",
    "finetune_path = 'models/great_gittables'\n",
    "\n",
    "# load and create config\n",
    "configs = get_config(config_path)\n",
    "model_config_finetune = create_model_config(data_path, configs, model_type, config_type = \"finetune\")\n",
    "model_config_finetune['pretrained_llm'] = os.path.join(finetune_path, 'weights')\n",
    "\n",
    "# load model\n",
    "great_model = create_model(model_type, model_config_finetune)\n"
   ]
  }
 ],
 "metadata": {
  "kernelspec": {
   "display_name": "tabsyn_env",
   "language": "python",
   "name": "python3"
  },
  "language_info": {
   "codemirror_mode": {
    "name": "ipython",
    "version": 3
   },
   "file_extension": ".py",
   "mimetype": "text/x-python",
   "name": "python",
   "nbconvert_exporter": "python",
   "pygments_lexer": "ipython3",
   "version": "3.9.19"
  }
 },
 "nbformat": 4,
 "nbformat_minor": 2
}
